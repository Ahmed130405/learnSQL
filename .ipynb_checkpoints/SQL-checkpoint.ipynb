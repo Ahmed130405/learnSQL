{
 "cells": [
  {
   "cell_type": "markdown",
   "id": "b64a3fa2-4d2e-41cd-8900-8eb5fd122a5a",
   "metadata": {},
   "source": [
    "# SQL"
   ]
  },
  {
   "cell_type": "markdown",
   "id": "27be0499-e88d-4254-8ac1-22efe4b81ff9",
   "metadata": {},
   "source": [
    "SQL is programming language used w/ databases. BigQuery is web service that lets you apply SQL to huge datasets."
   ]
  },
  {
   "cell_type": "markdown",
   "id": "a8c612c6-daa2-4963-ac90-bff920bde02b",
   "metadata": {},
   "source": [
    "To use BigQuery:"
   ]
  },
  {
   "cell_type": "code",
   "execution_count": 1,
   "id": "00b50358-477d-42ae-8708-fdfb3d202030",
   "metadata": {},
   "outputs": [
    {
     "ename": "ModuleNotFoundError",
     "evalue": "No module named 'google'",
     "output_type": "error",
     "traceback": [
      "\u001b[1;31m---------------------------------------------------------------------------\u001b[0m",
      "\u001b[1;31mModuleNotFoundError\u001b[0m                       Traceback (most recent call last)",
      "Input \u001b[1;32mIn [1]\u001b[0m, in \u001b[0;36m<cell line: 1>\u001b[1;34m()\u001b[0m\n\u001b[1;32m----> 1\u001b[0m \u001b[38;5;28;01mfrom\u001b[39;00m \u001b[38;5;21;01mgoogle\u001b[39;00m\u001b[38;5;21;01m.\u001b[39;00m\u001b[38;5;21;01mcloud\u001b[39;00m \u001b[38;5;28;01mimport\u001b[39;00m bigquery\n",
      "\u001b[1;31mModuleNotFoundError\u001b[0m: No module named 'google'"
     ]
    }
   ],
   "source": [
    "from google.cloud import bigquery"
   ]
  },
  {
   "cell_type": "markdown",
   "id": "b5cc4369-bfe7-45e8-9799-4a351715e0df",
   "metadata": {},
   "source": [
    "To install package:"
   ]
  },
  {
   "cell_type": "code",
   "execution_count": null,
   "id": "ccd78cb3-b54b-4488-ba05-eed1e450b690",
   "metadata": {},
   "outputs": [],
   "source": [
    "# pip install --upgrade google-cloud\n",
    "# pip install --upgrade google-cloud-bigquery\n",
    "# pip install --upgrade google-cloud-storage"
   ]
  },
  {
   "cell_type": "markdown",
   "id": "a7e3b696-4a63-408f-a22f-da5faa8f3313",
   "metadata": {},
   "source": [
    "Create `Client` object - used to retrieve information from BigQuery datasets."
   ]
  },
  {
   "cell_type": "code",
   "execution_count": null,
   "id": "e7dbfb54-d7b9-4eb1-a385-b1516ca9a36a",
   "metadata": {},
   "outputs": [],
   "source": [
    "# Create a \"Client\" object\n",
    "client = bigquery.Client()"
   ]
  },
  {
   "cell_type": "markdown",
   "id": "c278c464-e721-40dd-b66c-6de42255b383",
   "metadata": {},
   "source": []
  }
 ],
 "metadata": {
  "kernelspec": {
   "display_name": "Python 3 (ipykernel)",
   "language": "python",
   "name": "python3"
  },
  "language_info": {
   "codemirror_mode": {
    "name": "ipython",
    "version": 3
   },
   "file_extension": ".py",
   "mimetype": "text/x-python",
   "name": "python",
   "nbconvert_exporter": "python",
   "pygments_lexer": "ipython3",
   "version": "3.10.6"
  }
 },
 "nbformat": 4,
 "nbformat_minor": 5
}
