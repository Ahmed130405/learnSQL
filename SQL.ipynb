{
 "cells": [
  {
   "cell_type": "markdown",
   "id": "b64a3fa2-4d2e-41cd-8900-8eb5fd122a5a",
   "metadata": {},
   "source": [
    "# SQL"
   ]
  },
  {
   "cell_type": "markdown",
   "id": "27be0499-e88d-4254-8ac1-22efe4b81ff9",
   "metadata": {},
   "source": [
    "SQL is programming language used w/ databases. BigQuery is web service that lets you apply SQL to huge datasets."
   ]
  },
  {
   "cell_type": "markdown",
   "id": "a8c612c6-daa2-4963-ac90-bff920bde02b",
   "metadata": {},
   "source": [
    "To use BigQuery:"
   ]
  },
  {
   "cell_type": "code",
   "execution_count": 3,
   "id": "00b50358-477d-42ae-8708-fdfb3d202030",
   "metadata": {},
   "outputs": [],
   "source": [
    "from google.cloud import bigquery"
   ]
  },
  {
   "cell_type": "markdown",
   "id": "b5cc4369-bfe7-45e8-9799-4a351715e0df",
   "metadata": {},
   "source": [
    "To install package:"
   ]
  },
  {
   "cell_type": "code",
   "execution_count": 4,
   "id": "ccd78cb3-b54b-4488-ba05-eed1e450b690",
   "metadata": {},
   "outputs": [],
   "source": [
    "# pip install --upgrade google-cloud\n",
    "# pip install --upgrade google-cloud-bigquery\n",
    "# pip install --upgrade google-cloud-storage"
   ]
  },
  {
   "cell_type": "markdown",
   "id": "a7e3b696-4a63-408f-a22f-da5faa8f3313",
   "metadata": {},
   "source": [
    "Create `Client` object - used to retrieve information from BigQuery datasets."
   ]
  },
  {
   "cell_type": "code",
   "execution_count": 5,
   "id": "e7dbfb54-d7b9-4eb1-a385-b1516ca9a36a",
   "metadata": {},
   "outputs": [
    {
     "name": "stderr",
     "output_type": "stream",
     "text": [
      "c:\\Users\\ahmed\\AppData\\Local\\Programs\\Python\\Python310\\lib\\site-packages\\google\\auth\\_default.py:81: UserWarning: Your application has authenticated using end user credentials from Google Cloud SDK without a quota project. You might receive a \"quota exceeded\" or \"API not enabled\" error. We recommend you rerun `gcloud auth application-default login` and make sure a quota project is added. Or you can use service accounts instead. For more information about service accounts, see https://cloud.google.com/docs/authentication/\n",
      "  warnings.warn(_CLOUD_SDK_CREDENTIALS_WARNING)\n"
     ]
    },
    {
     "ename": "OSError",
     "evalue": "Project was not passed and could not be determined from the environment.",
     "output_type": "error",
     "traceback": [
      "\u001b[1;31m---------------------------------------------------------------------------\u001b[0m",
      "\u001b[1;31mOSError\u001b[0m                                   Traceback (most recent call last)",
      "\u001b[1;32mc:\\Users\\ahmed\\Dropbox\\Education\\University\\Programming\\SQL\\SQL.ipynb Cell 8\u001b[0m in \u001b[0;36m<cell line: 2>\u001b[1;34m()\u001b[0m\n\u001b[0;32m      <a href='vscode-notebook-cell:/c%3A/Users/ahmed/Dropbox/Education/University/Programming/SQL/SQL.ipynb#X10sZmlsZQ%3D%3D?line=0'>1</a>\u001b[0m \u001b[39m# Create a \"Client\" object\u001b[39;00m\n\u001b[1;32m----> <a href='vscode-notebook-cell:/c%3A/Users/ahmed/Dropbox/Education/University/Programming/SQL/SQL.ipynb#X10sZmlsZQ%3D%3D?line=1'>2</a>\u001b[0m client \u001b[39m=\u001b[39m bigquery\u001b[39m.\u001b[39;49mClient()\n",
      "File \u001b[1;32mc:\\Users\\ahmed\\AppData\\Local\\Programs\\Python\\Python310\\lib\\site-packages\\google\\cloud\\bigquery\\client.py:226\u001b[0m, in \u001b[0;36mClient.__init__\u001b[1;34m(self, project, credentials, _http, location, default_query_job_config, client_info, client_options)\u001b[0m\n\u001b[0;32m    216\u001b[0m \u001b[39mdef\u001b[39;00m \u001b[39m__init__\u001b[39m(\n\u001b[0;32m    217\u001b[0m     \u001b[39mself\u001b[39m,\n\u001b[0;32m    218\u001b[0m     project\u001b[39m=\u001b[39m\u001b[39mNone\u001b[39;00m,\n\u001b[1;32m   (...)\u001b[0m\n\u001b[0;32m    224\u001b[0m     client_options\u001b[39m=\u001b[39m\u001b[39mNone\u001b[39;00m,\n\u001b[0;32m    225\u001b[0m ) \u001b[39m-\u001b[39m\u001b[39m>\u001b[39m \u001b[39mNone\u001b[39;00m:\n\u001b[1;32m--> 226\u001b[0m     \u001b[39msuper\u001b[39;49m(Client, \u001b[39mself\u001b[39;49m)\u001b[39m.\u001b[39;49m\u001b[39m__init__\u001b[39;49m(\n\u001b[0;32m    227\u001b[0m         project\u001b[39m=\u001b[39;49mproject,\n\u001b[0;32m    228\u001b[0m         credentials\u001b[39m=\u001b[39;49mcredentials,\n\u001b[0;32m    229\u001b[0m         client_options\u001b[39m=\u001b[39;49mclient_options,\n\u001b[0;32m    230\u001b[0m         _http\u001b[39m=\u001b[39;49m_http,\n\u001b[0;32m    231\u001b[0m     )\n\u001b[0;32m    233\u001b[0m     kw_args \u001b[39m=\u001b[39m {\u001b[39m\"\u001b[39m\u001b[39mclient_info\u001b[39m\u001b[39m\"\u001b[39m: client_info}\n\u001b[0;32m    234\u001b[0m     bq_host \u001b[39m=\u001b[39m _get_bigquery_host()\n",
      "File \u001b[1;32mc:\\Users\\ahmed\\AppData\\Local\\Programs\\Python\\Python310\\lib\\site-packages\\google\\cloud\\client\\__init__.py:320\u001b[0m, in \u001b[0;36mClientWithProject.__init__\u001b[1;34m(self, project, credentials, client_options, _http)\u001b[0m\n\u001b[0;32m    319\u001b[0m \u001b[39mdef\u001b[39;00m \u001b[39m__init__\u001b[39m(\u001b[39mself\u001b[39m, project\u001b[39m=\u001b[39m\u001b[39mNone\u001b[39;00m, credentials\u001b[39m=\u001b[39m\u001b[39mNone\u001b[39;00m, client_options\u001b[39m=\u001b[39m\u001b[39mNone\u001b[39;00m, _http\u001b[39m=\u001b[39m\u001b[39mNone\u001b[39;00m):\n\u001b[1;32m--> 320\u001b[0m     _ClientProjectMixin\u001b[39m.\u001b[39;49m\u001b[39m__init__\u001b[39;49m(\u001b[39mself\u001b[39;49m, project\u001b[39m=\u001b[39;49mproject, credentials\u001b[39m=\u001b[39;49mcredentials)\n\u001b[0;32m    321\u001b[0m     Client\u001b[39m.\u001b[39m\u001b[39m__init__\u001b[39m(\n\u001b[0;32m    322\u001b[0m         \u001b[39mself\u001b[39m, credentials\u001b[39m=\u001b[39mcredentials, client_options\u001b[39m=\u001b[39mclient_options, _http\u001b[39m=\u001b[39m_http\n\u001b[0;32m    323\u001b[0m     )\n",
      "File \u001b[1;32mc:\\Users\\ahmed\\AppData\\Local\\Programs\\Python\\Python310\\lib\\site-packages\\google\\cloud\\client\\__init__.py:271\u001b[0m, in \u001b[0;36m_ClientProjectMixin.__init__\u001b[1;34m(self, project, credentials)\u001b[0m\n\u001b[0;32m    268\u001b[0m     project \u001b[39m=\u001b[39m \u001b[39mself\u001b[39m\u001b[39m.\u001b[39m_determine_default(project)\n\u001b[0;32m    270\u001b[0m \u001b[39mif\u001b[39;00m project \u001b[39mis\u001b[39;00m \u001b[39mNone\u001b[39;00m:\n\u001b[1;32m--> 271\u001b[0m     \u001b[39mraise\u001b[39;00m \u001b[39mEnvironmentError\u001b[39;00m(\n\u001b[0;32m    272\u001b[0m         \u001b[39m\"\u001b[39m\u001b[39mProject was not passed and could not be \u001b[39m\u001b[39m\"\u001b[39m\n\u001b[0;32m    273\u001b[0m         \u001b[39m\"\u001b[39m\u001b[39mdetermined from the environment.\u001b[39m\u001b[39m\"\u001b[39m\n\u001b[0;32m    274\u001b[0m     )\n\u001b[0;32m    276\u001b[0m \u001b[39mif\u001b[39;00m \u001b[39misinstance\u001b[39m(project, \u001b[39mbytes\u001b[39m):\n\u001b[0;32m    277\u001b[0m     project \u001b[39m=\u001b[39m project\u001b[39m.\u001b[39mdecode(\u001b[39m\"\u001b[39m\u001b[39mutf-8\u001b[39m\u001b[39m\"\u001b[39m)\n",
      "\u001b[1;31mOSError\u001b[0m: Project was not passed and could not be determined from the environment."
     ]
    }
   ],
   "source": [
    "# Create a \"Client\" object\n",
    "client = bigquery.Client()"
   ]
  },
  {
   "cell_type": "markdown",
   "id": "c278c464-e721-40dd-b66c-6de42255b383",
   "metadata": {},
   "source": []
  }
 ],
 "metadata": {
  "kernelspec": {
   "display_name": "Python 3 (ipykernel)",
   "language": "python",
   "name": "python3"
  },
  "language_info": {
   "codemirror_mode": {
    "name": "ipython",
    "version": 3
   },
   "file_extension": ".py",
   "mimetype": "text/x-python",
   "name": "python",
   "nbconvert_exporter": "python",
   "pygments_lexer": "ipython3",
   "version": "3.10.6"
  }
 },
 "nbformat": 4,
 "nbformat_minor": 5
}
